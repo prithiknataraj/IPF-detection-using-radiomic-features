{
 "cells": [
  {
   "cell_type": "code",
   "execution_count": null,
   "metadata": {
    "colab": {
     "base_uri": "https://localhost:8080/"
    },
    "id": "OXQ_JJe9YLX6",
    "outputId": "e2ea0733-c32d-4355-cdfe-9e4b4331431e"
   },
   "outputs": [
    {
     "name": "stdout",
     "output_type": "stream",
     "text": [
      "Mounted at /content/drive\n"
     ]
    }
   ],
   "source": [
    "from google.colab import drive\n",
    "drive.mount('/content/drive')"
   ]
  },
  {
   "cell_type": "code",
   "execution_count": null,
   "metadata": {
    "colab": {
     "base_uri": "https://localhost:8080/"
    },
    "id": "I9bUfCxtaOKW",
    "outputId": "8453b09e-1d8c-47c9-a891-f5a613a52d66"
   },
   "outputs": [
    {
     "name": "stdout",
     "output_type": "stream",
     "text": [
      "Collecting SimpleITK\n",
      "  Downloading SimpleITK-2.4.0-cp310-cp310-manylinux_2_17_x86_64.manylinux2014_x86_64.whl.metadata (7.9 kB)\n",
      "Downloading SimpleITK-2.4.0-cp310-cp310-manylinux_2_17_x86_64.manylinux2014_x86_64.whl (52.4 MB)\n",
      "\u001b[2K   \u001b[90m━━━━━━━━━━━━━━━━━━━━━━━━━━━━━━━━━━━━━━━━\u001b[0m \u001b[32m52.4/52.4 MB\u001b[0m \u001b[31m15.4 MB/s\u001b[0m eta \u001b[36m0:00:00\u001b[0m\n",
      "\u001b[?25hInstalling collected packages: SimpleITK\n",
      "Successfully installed SimpleITK-2.4.0\n",
      "Collecting pyradiomics\n",
      "  Downloading pyradiomics-3.1.0.tar.gz (34.5 MB)\n",
      "\u001b[2K     \u001b[90m━━━━━━━━━━━━━━━━━━━━━━━━━━━━━━━━━━━━━━━━\u001b[0m \u001b[32m34.5/34.5 MB\u001b[0m \u001b[31m11.2 MB/s\u001b[0m eta \u001b[36m0:00:00\u001b[0m\n",
      "\u001b[?25h  Installing build dependencies ... \u001b[?25l\u001b[?25hdone\n",
      "  Getting requirements to build wheel ... \u001b[?25l\u001b[?25hdone\n",
      "  Preparing metadata (pyproject.toml) ... \u001b[?25l\u001b[?25hdone\n",
      "Discarding \u001b[4;34mhttps://files.pythonhosted.org/packages/03/c1/20fc2c50ab1e3304da36d866042a1905a2b05a1431ece35448ab6b4578f2/pyradiomics-3.1.0.tar.gz (from https://pypi.org/simple/pyradiomics/)\u001b[0m: \u001b[33mRequested pyradiomics from https://files.pythonhosted.org/packages/03/c1/20fc2c50ab1e3304da36d866042a1905a2b05a1431ece35448ab6b4578f2/pyradiomics-3.1.0.tar.gz has inconsistent version: expected '3.1.0', but metadata has '3.0.1a1'\u001b[0m\n",
      "  Downloading pyradiomics-3.0.1.tar.gz (34.5 MB)\n",
      "\u001b[2K     \u001b[90m━━━━━━━━━━━━━━━━━━━━━━━━━━━━━━━━━━━━━━━━\u001b[0m \u001b[32m34.5/34.5 MB\u001b[0m \u001b[31m48.9 MB/s\u001b[0m eta \u001b[36m0:00:00\u001b[0m\n",
      "\u001b[?25h  Preparing metadata (setup.py) ... \u001b[?25l\u001b[?25hdone\n",
      "Requirement already satisfied: numpy>=1.9.2 in /usr/local/lib/python3.10/dist-packages (from pyradiomics) (1.26.4)\n",
      "Requirement already satisfied: SimpleITK>=0.9.1 in /usr/local/lib/python3.10/dist-packages (from pyradiomics) (2.4.0)\n",
      "Collecting PyWavelets>=0.4.0 (from pyradiomics)\n",
      "  Downloading pywavelets-1.7.0-cp310-cp310-manylinux_2_17_x86_64.manylinux2014_x86_64.whl.metadata (9.0 kB)\n",
      "Collecting pykwalify>=1.6.0 (from pyradiomics)\n",
      "  Downloading pykwalify-1.8.0-py2.py3-none-any.whl.metadata (5.3 kB)\n",
      "Requirement already satisfied: six>=1.10.0 in /usr/local/lib/python3.10/dist-packages (from pyradiomics) (1.16.0)\n",
      "Collecting docopt>=0.6.2 (from pykwalify>=1.6.0->pyradiomics)\n",
      "  Downloading docopt-0.6.2.tar.gz (25 kB)\n",
      "  Preparing metadata (setup.py) ... \u001b[?25l\u001b[?25hdone\n",
      "Requirement already satisfied: python-dateutil>=2.8.0 in /usr/local/lib/python3.10/dist-packages (from pykwalify>=1.6.0->pyradiomics) (2.8.2)\n",
      "Collecting ruamel.yaml>=0.16.0 (from pykwalify>=1.6.0->pyradiomics)\n",
      "  Downloading ruamel.yaml-0.18.6-py3-none-any.whl.metadata (23 kB)\n",
      "Collecting ruamel.yaml.clib>=0.2.7 (from ruamel.yaml>=0.16.0->pykwalify>=1.6.0->pyradiomics)\n",
      "  Downloading ruamel.yaml.clib-0.2.12-cp310-cp310-manylinux_2_17_x86_64.manylinux2014_x86_64.whl.metadata (2.7 kB)\n",
      "Downloading pykwalify-1.8.0-py2.py3-none-any.whl (24 kB)\n",
      "Downloading pywavelets-1.7.0-cp310-cp310-manylinux_2_17_x86_64.manylinux2014_x86_64.whl (4.5 MB)\n",
      "\u001b[2K   \u001b[90m━━━━━━━━━━━━━━━━━━━━━━━━━━━━━━━━━━━━━━━━\u001b[0m \u001b[32m4.5/4.5 MB\u001b[0m \u001b[31m87.6 MB/s\u001b[0m eta \u001b[36m0:00:00\u001b[0m\n",
      "\u001b[?25hDownloading ruamel.yaml-0.18.6-py3-none-any.whl (117 kB)\n",
      "\u001b[2K   \u001b[90m━━━━━━━━━━━━━━━━━━━━━━━━━━━━━━━━━━━━━━━━\u001b[0m \u001b[32m117.8/117.8 kB\u001b[0m \u001b[31m11.8 MB/s\u001b[0m eta \u001b[36m0:00:00\u001b[0m\n",
      "\u001b[?25hDownloading ruamel.yaml.clib-0.2.12-cp310-cp310-manylinux_2_17_x86_64.manylinux2014_x86_64.whl (722 kB)\n",
      "\u001b[2K   \u001b[90m━━━━━━━━━━━━━━━━━━━━━━━━━━━━━━━━━━━━━━━━\u001b[0m \u001b[32m722.2/722.2 kB\u001b[0m \u001b[31m51.7 MB/s\u001b[0m eta \u001b[36m0:00:00\u001b[0m\n",
      "\u001b[?25hBuilding wheels for collected packages: pyradiomics, docopt\n",
      "  Building wheel for pyradiomics (setup.py) ... \u001b[?25l\u001b[?25hdone\n",
      "  Created wheel for pyradiomics: filename=pyradiomics-3.0.1-cp310-cp310-linux_x86_64.whl size=169768 sha256=ee4c98d7c69132b33e22c42cc9c300d413836f33827637e91834f9a54f8e92f8\n",
      "  Stored in directory: /root/.cache/pip/wheels/91/c5/13/c5fd4c5ad3edf4062bb3855bd66fad25871c9c6dc0b3fda544\n",
      "  Building wheel for docopt (setup.py) ... \u001b[?25l\u001b[?25hdone\n",
      "  Created wheel for docopt: filename=docopt-0.6.2-py2.py3-none-any.whl size=13704 sha256=c2e0680d20add8eb718be611464ac5a229e57dd4817cc15176f3e355f046de2e\n",
      "  Stored in directory: /root/.cache/pip/wheels/fc/ab/d4/5da2067ac95b36618c629a5f93f809425700506f72c9732fac\n",
      "Successfully built pyradiomics docopt\n",
      "Installing collected packages: docopt, ruamel.yaml.clib, PyWavelets, ruamel.yaml, pykwalify, pyradiomics\n",
      "Successfully installed PyWavelets-1.7.0 docopt-0.6.2 pykwalify-1.8.0 pyradiomics-3.0.1 ruamel.yaml-0.18.6 ruamel.yaml.clib-0.2.12\n"
     ]
    }
   ],
   "source": [
    "!pip install SimpleITK\n",
    "!pip install pyradiomics"
   ]
  },
  {
   "cell_type": "markdown",
   "metadata": {},
   "source": [
    "**Import necessary packages**"
   ]
  },
  {
   "cell_type": "code",
   "execution_count": null,
   "metadata": {},
   "outputs": [],
   "source": [
    "import os\n",
    "import SimpleITK as sitk\n",
    "import pandas as pd\n",
    "from radiomics import featureextractor"
   ]
  },
  {
   "cell_type": "markdown",
   "metadata": {},
   "source": [
    "**Initialize the extractor with the YAML configuration file**"
   ]
  },
  {
   "cell_type": "code",
   "execution_count": null,
   "metadata": {},
   "outputs": [],
   "source": [
    "extractor = featureextractor.RadiomicsFeatureExtractor('/content/drive/MyDrive/FYP/FeatureExtraction/params.yaml')"
   ]
  },
  {
   "cell_type": "markdown",
   "metadata": {},
   "source": [
    "**Paths to image and mask folders**"
   ]
  },
  {
   "cell_type": "code",
   "execution_count": null,
   "metadata": {},
   "outputs": [],
   "source": [
    "image_folder = \"/content/drive/MyDrive/FYP/segmentation/Covid\"\n",
    "mask_folder = \"/content/drive/MyDrive/FYP/Masks\""
   ]
  },
  {
   "cell_type": "markdown",
   "metadata": {},
   "source": [
    "**Prepare the output CSV file**"
   ]
  },
  {
   "cell_type": "code",
   "execution_count": null,
   "metadata": {},
   "outputs": [],
   "source": [
    "output_csv = \"/content/drive/MyDrive/FYP/extracted_features.csv\"\n",
    "feature_data = []"
   ]
  },
  {
   "cell_type": "markdown",
   "metadata": {},
   "source": [
    "**Get all image and mask files (assuming they are paired and ordered in the folders)**"
   ]
  },
  {
   "cell_type": "code",
   "execution_count": null,
   "metadata": {},
   "outputs": [],
   "source": [
    "image_files = sorted(os.listdir(image_folder))\n",
    "mask_files = sorted(os.listdir(mask_folder))"
   ]
  },
  {
   "cell_type": "markdown",
   "metadata": {},
   "source": [
    "**Loop through each image and corresponding mask**"
   ]
  },
  {
   "cell_type": "code",
   "execution_count": null,
   "metadata": {
    "colab": {
     "base_uri": "https://localhost:8080/"
    },
    "id": "fid_UItfYBnJ",
    "outputId": "324a95ec-73f0-4dee-bce1-873ba8f7441a"
   },
   "outputs": [],
   "source": [
    "for img_file, mask_file in zip(image_files, mask_files):\n",
    "    image_path = os.path.join(image_folder, img_file)\n",
    "    mask_path = os.path.join(mask_folder, mask_file)\n",
    "\n",
    "    # Read the image and mask\n",
    "    image = sitk.ReadImage(image_path)\n",
    "    mask = sitk.ReadImage(mask_path)\n",
    "\n",
    "    # Convert images to grayscale if necessary\n",
    "    if image.GetNumberOfComponentsPerPixel() > 1:\n",
    "        image = sitk.VectorIndexSelectionCast(image, 0)  # Select one channel, e.g., Red channel\n",
    "\n",
    "    if mask.GetNumberOfComponentsPerPixel() > 1:\n",
    "        mask = sitk.VectorIndexSelectionCast(mask, 0)  # Ensure mask is single-channel as well\n",
    "\n",
    "    # Ensure images are of type UInt8 or UInt16, compatible with radiomics processing\n",
    "    image = sitk.Cast(image, sitk.sitkUInt8)\n",
    "    mask = sitk.Cast(mask, sitk.sitkUInt8)\n",
    "\n",
    "    # Check if the image and mask sizes match\n",
    "    if image.GetSize() != mask.GetSize():\n",
    "        print(f\"Resizing mask for {img_file} to match image dimensions.\")\n",
    "        mask = sitk.Resample(mask, referenceImage=image, transform=sitk.Transform(),\n",
    "                             interpolator=sitk.sitkNearestNeighbor, defaultPixelValue=0, outputPixelType=sitk.sitkUInt8)\n",
    "\n",
    "    # Check if the label 255 exists in the mask\n",
    "    mask_stats = sitk.LabelStatisticsImageFilter()\n",
    "    mask_stats.Execute(image, mask)\n",
    "\n",
    "    if 255 in mask_stats.GetLabels():  # Proceed only if label 255 is present\n",
    "        # Extract only the specified features\n",
    "        features = extractor.execute(image, mask)\n",
    "\n",
    "        # Store features in a dictionary, with image filename as identifier\n",
    "        feature_row = {\"Image\": img_file}\n",
    "        feature_row.update({feature_name: feature_value for feature_name, feature_value in features.items()})\n",
    "\n",
    "    else:\n",
    "        # If label 255 is missing, add an empty row for this image\n",
    "        print(f\"No segmentation found in {img_file}. Adding empty row.\")\n",
    "        feature_row = {\"Image\": img_file}\n",
    "\n",
    "    # Append the row to the data list\n",
    "    feature_data.append(feature_row)"
   ]
  },
  {
   "cell_type": "markdown",
   "metadata": {},
   "source": [
    "**Convert the list of dictionaries to a DataFrame**"
   ]
  },
  {
   "cell_type": "code",
   "execution_count": null,
   "metadata": {},
   "outputs": [],
   "source": [
    "df = pd.DataFrame(feature_data)"
   ]
  },
  {
   "cell_type": "markdown",
   "metadata": {},
   "source": [
    "**Save the DataFrame to CSV**"
   ]
  },
  {
   "cell_type": "code",
   "execution_count": null,
   "metadata": {},
   "outputs": [],
   "source": [
    "df.to_csv(output_csv, index=False)\n",
    "print(f\"Feature extraction complete. Results saved to {output_csv}\")"
   ]
  }
 ],
 "metadata": {
  "accelerator": "GPU",
  "colab": {
   "gpuType": "T4",
   "provenance": []
  },
  "kernelspec": {
   "display_name": "Python 3",
   "name": "python3"
  },
  "language_info": {
   "name": "python"
  }
 },
 "nbformat": 4,
 "nbformat_minor": 0
}
