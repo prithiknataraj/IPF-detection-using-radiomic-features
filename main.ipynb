{
 "cells": [
  {
   "cell_type": "markdown",
   "metadata": {},
   "source": [
    "**_Radiomics_**"
   ]
  },
  {
   "cell_type": "markdown",
   "metadata": {},
   "source": [
    "**Import necessary packages**"
   ]
  },
  {
   "cell_type": "code",
   "execution_count": null,
   "metadata": {},
   "outputs": [
    {
     "name": "stdout",
     "output_type": "stream",
     "text": [
      "Defaulting to user installation because normal site-packages is not writeable\n",
      "Collecting pyradiomics\n",
      "  Using cached pyradiomics-3.1.0.tar.gz (34.5 MB)\n",
      "  Installing build dependencies: started\n",
      "  Installing build dependencies: finished with status 'done'\n",
      "  Getting requirements to build wheel: started\n",
      "  Getting requirements to build wheel: finished with status 'done'\n",
      "  Preparing metadata (pyproject.toml): started\n",
      "  Preparing metadata (pyproject.toml): finished with status 'done'\n",
      "Discarding https://files.pythonhosted.org/packages/03/c1/20fc2c50ab1e3304da36d866042a1905a2b05a1431ece35448ab6b4578f2/pyradiomics-3.1.0.tar.gz (from https://pypi.org/simple/pyradiomics/): Requested pyradiomics from https://files.pythonhosted.org/packages/03/c1/20fc2c50ab1e3304da36d866042a1905a2b05a1431ece35448ab6b4578f2/pyradiomics-3.1.0.tar.gz has inconsistent version: expected '3.1.0', but metadata has '3.0.1a1'\n",
      "  Using cached pyradiomics-3.0.1.tar.gz (34.5 MB)\n",
      "  Preparing metadata (setup.py): started\n",
      "  Preparing metadata (setup.py): finished with status 'error'\n"
     ]
    },
    {
     "name": "stderr",
     "output_type": "stream",
     "text": [
      "  error: subprocess-exited-with-error\n",
      "  \n",
      "  × python setup.py egg_info did not run successfully.\n",
      "  │ exit code: 1\n",
      "  ╰─> [30 lines of output]\n",
      "      C:\\Users\\prith\\AppData\\Local\\Temp\\pip-install-u6_rn0e_\\pyradiomics_ca49758e140745988b749a6245b19b4f\\setup.py:9: SetuptoolsDeprecationWarning: The test command is disabled and references to it are deprecated.\n",
      "      !!\n",
      "      \n",
      "              ********************************************************************************\n",
      "              Please remove any references to `setuptools.command.test` in all supported versions of the affected package.\n",
      "      \n",
      "              By 2024-Nov-15, you need to update your project and remove deprecated calls\n",
      "              or your builds will no longer be supported.\n",
      "              ********************************************************************************\n",
      "      \n",
      "      !!\n",
      "        from setuptools.command.test import test as TestCommand\n",
      "      C:\\Users\\prith\\AppData\\Local\\Temp\\pip-install-u6_rn0e_\\pyradiomics_ca49758e140745988b749a6245b19b4f\\versioneer.py:418: SyntaxWarning: invalid escape sequence '\\s'\n",
      "        LONG_VERSION_PY['git'] = '''\n",
      "      Traceback (most recent call last):\n",
      "        File \"<string>\", line 2, in <module>\n",
      "        File \"<pip-setuptools-caller>\", line 34, in <module>\n",
      "        File \"C:\\Users\\prith\\AppData\\Local\\Temp\\pip-install-u6_rn0e_\\pyradiomics_ca49758e140745988b749a6245b19b4f\\setup.py\", line 79, in <module>\n",
      "          version=versioneer.get_version(),\n",
      "                  ^^^^^^^^^^^^^^^^^^^^^^^^\n",
      "        File \"C:\\Users\\prith\\AppData\\Local\\Temp\\pip-install-u6_rn0e_\\pyradiomics_ca49758e140745988b749a6245b19b4f\\versioneer.py\", line 1476, in get_version\n",
      "          return get_versions()[\"version\"]\n",
      "                 ^^^^^^^^^^^^^^\n",
      "        File \"C:\\Users\\prith\\AppData\\Local\\Temp\\pip-install-u6_rn0e_\\pyradiomics_ca49758e140745988b749a6245b19b4f\\versioneer.py\", line 1408, in get_versions\n",
      "          cfg = get_config_from_root(root)\n",
      "                ^^^^^^^^^^^^^^^^^^^^^^^^^^\n",
      "        File \"C:\\Users\\prith\\AppData\\Local\\Temp\\pip-install-u6_rn0e_\\pyradiomics_ca49758e140745988b749a6245b19b4f\\versioneer.py\", line 342, in get_config_from_root\n",
      "          parser = configparser.SafeConfigParser()\n",
      "                   ^^^^^^^^^^^^^^^^^^^^^^^^^^^^^\n",
      "      AttributeError: module 'configparser' has no attribute 'SafeConfigParser'. Did you mean: 'RawConfigParser'?\n",
      "      [end of output]\n",
      "  \n",
      "  note: This error originates from a subprocess, and is likely not a problem with pip.\n",
      "error: metadata-generation-failed\n",
      "\n",
      "× Encountered error while generating package metadata.\n",
      "╰─> See above for output.\n",
      "\n",
      "note: This is an issue with the package mentioned above, not pip.\n",
      "hint: See above for details.\n"
     ]
    },
    {
     "ename": "",
     "evalue": "",
     "output_type": "error",
     "traceback": [
      "\u001b[1;31mThe Kernel crashed while executing code in the current cell or a previous cell. \n",
      "\u001b[1;31mPlease review the code in the cell(s) to identify a possible cause of the failure. \n",
      "\u001b[1;31mClick <a href='https://aka.ms/vscodeJupyterKernelCrash'>here</a> for more info. \n",
      "\u001b[1;31mView Jupyter <a href='command:jupyter.viewOutput'>log</a> for further details."
     ]
    }
   ],
   "source": [
    "# import radiomics\n",
    "# from radiomics import featureextractor\n",
    "# import SimpleITK as sitk\n",
    "\n",
    "!pip install pyradiomics"
   ]
  }
 ],
 "metadata": {
  "kernelspec": {
   "display_name": "Python 3",
   "language": "python",
   "name": "python3"
  },
  "language_info": {
   "codemirror_mode": {
    "name": "ipython",
    "version": 3
   },
   "file_extension": ".py",
   "mimetype": "text/x-python",
   "name": "python",
   "nbconvert_exporter": "python",
   "pygments_lexer": "ipython3",
   "version": "3.12.7"
  },
  "polyglot_notebook": {
   "kernelInfo": {
    "defaultKernelName": "csharp",
    "items": [
     {
      "aliases": [],
      "name": "csharp"
     }
    ]
   }
  }
 },
 "nbformat": 4,
 "nbformat_minor": 2
}
